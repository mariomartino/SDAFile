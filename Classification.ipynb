{
  "nbformat": 4,
  "nbformat_minor": 0,
  "metadata": {
    "colab": {
      "name": "Classification.ipynb",
      "provenance": []
    },
    "kernelspec": {
      "name": "python3",
      "display_name": "Python 3"
    },
    "language_info": {
      "name": "python"
    }
  },
  "cells": [
    {
      "cell_type": "markdown",
      "metadata": {
        "id": "wur7oq9Vydce"
      },
      "source": [
        "Script definitivo per la Classificazione"
      ]
    },
    {
      "cell_type": "markdown",
      "metadata": {
        "id": "oK6DHBiyc-6x"
      },
      "source": [
        "TRAINING"
      ]
    },
    {
      "cell_type": "markdown",
      "metadata": {
        "id": "9L13dvBOdnDg"
      },
      "source": [
        "Caricamento librerie e dataset di Training"
      ]
    },
    {
      "cell_type": "code",
      "metadata": {
        "id": "QXm0v1dzdAji"
      },
      "source": [
        "import numpy as np\n",
        "import matplotlib.pyplot as plt\n",
        "from scipy import stats\n",
        "from sklearn.metrics import classification_report\n",
        "from sklearn.model_selection import train_test_split\n",
        "import warnings\n",
        "import itertools\n",
        "warnings.filterwarnings(\"ignore\");"
      ],
      "execution_count": 5,
      "outputs": []
    },
    {
      "cell_type": "code",
      "metadata": {
        "colab": {
          "base_uri": "https://localhost:8080/"
        },
        "id": "DI__O9qSdI5o",
        "outputId": "db444907-8ba5-45ba-d47e-9055108b0fca"
      },
      "source": [
        "from google.colab import drive\n",
        "import os\n",
        "\n",
        "drive.mount('/content/drive')\n",
        "os.chdir('/content/drive/My Drive/Machine Learning')\n",
        "\n",
        "#os.chdir('/content/drive/My Drive/Inserire PATH')"
      ],
      "execution_count": 7,
      "outputs": [
        {
          "output_type": "stream",
          "text": [
            "Mounted at /content/drive\n"
          ],
          "name": "stdout"
        }
      ]
    },
    {
      "cell_type": "code",
      "metadata": {
        "id": "rFQRRQWmdWRS"
      },
      "source": [
        "import pandas as pd\n",
        "\n",
        "#myds_pandas=pd.read_csv('Inserire FILENAME.csv')\n",
        "myds_pandas=pd.read_csv('ClassificationData_SDA_IZ_group2.csv')\n",
        "Z=myds_pandas['Z_OppositeTeamDefence']\n",
        "Y=myds_pandas[[\"Y_Dehydration\", \"Y_Hyperthermia\",\"Y_AvgSpeed\", \"Y_AvgTravelledDistance\" , \"Y_PressingCapability\", \"Y_PhysicalEndurance\", \"Y_MentalConcentration\", \"Y_EmotionalMotivation\"]]\n",
        "\n",
        "YY_train, YY_test, ZZ_train, ZZ_test = train_test_split(Y,Z, test_size=0.8)\n"
      ],
      "execution_count": 9,
      "outputs": []
    },
    {
      "cell_type": "markdown",
      "metadata": {
        "id": "QsV7jZd3dktS"
      },
      "source": [
        "Addestramento classificatore su Regressione Logistica in seguito a PCA"
      ]
    },
    {
      "cell_type": "code",
      "metadata": {
        "id": "EtmK3f39d13a"
      },
      "source": [
        "from sklearn.pipeline import Pipeline\n",
        "from sklearn.decomposition import PCA\n",
        "from sklearn.linear_model import LogisticRegression, SGDClassifier\n",
        "\n",
        "\n",
        "pipe = []\n",
        "accuracy = []\n",
        "\n",
        "for i in range (8):\n",
        "    pipe.append(Pipeline([('pca', PCA(n_components= i+1)),('Logistic Regression', SGDClassifier('log'))]))\n",
        "    pipe[i].fit(YY_train, ZZ_train)\n",
        "    ZZ_estimated= pipe[i].predict(YY_test)\n",
        "    metrics = classification_report(ZZ_test, ZZ_estimated, output_dict=True)\n",
        "    accuracy.append(metrics['accuracy'])\n",
        "\n",
        "max_value = max(accuracy)\n",
        "model = pipe[accuracy.index(max_value)]\n"
      ],
      "execution_count": 13,
      "outputs": []
    },
    {
      "cell_type": "markdown",
      "metadata": {
        "id": "R4KdfCiJeX3M"
      },
      "source": [
        "PREDICT"
      ]
    },
    {
      "cell_type": "code",
      "metadata": {
        "colab": {
          "base_uri": "https://localhost:8080/"
        },
        "id": "mtEBZHb7eddQ",
        "outputId": "90fa8710-0184-45af-a41d-033e92565045"
      },
      "source": [
        "\n",
        "Ynew = pd.DataFrame(data = [[VALUE, VALUE, VALUE, VALUE, VALUE, VALUE, VALUE, VALUE]], columns = [\"Y_Dehydration\", \"Y_Hyperthermia\",\"Y_AvgSpeed\", \"Y_AvgTravelledDistance\" , \"Y_PressingCapability\", \"Y_PhysicalEndurance\", \"Y_MentalConcentration\", \"Y_EmotionalMotivation\"])\n",
        "\n",
        "Znew = model.predict(Ynew)\n",
        "print(Znew)\n"
      ],
      "execution_count": 17,
      "outputs": [
        {
          "output_type": "stream",
          "text": [
            "[1]\n"
          ],
          "name": "stdout"
        }
      ]
    }
  ]
}