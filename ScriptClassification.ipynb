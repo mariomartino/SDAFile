{
  "nbformat": 4,
  "nbformat_minor": 0,
  "metadata": {
    "colab": {
      "name": "ScriptClassification.ipynb",
      "provenance": [],
      "collapsed_sections": [],
      "include_colab_link": true
    },
    "kernelspec": {
      "name": "python3",
      "display_name": "Python 3"
    },
    "language_info": {
      "name": "python"
    }
  },
  "cells": [
    {
      "cell_type": "markdown",
      "metadata": {
        "id": "view-in-github",
        "colab_type": "text"
      },
      "source": [
        "<a href=\"https://colab.research.google.com/github/mariomartino/SDAFile/blob/main/ScriptClassification.ipynb\" target=\"_parent\"><img src=\"https://colab.research.google.com/assets/colab-badge.svg\" alt=\"Open In Colab\"/></a>"
      ]
    },
    {
      "cell_type": "markdown",
      "metadata": {
        "id": "YLKDeDKZXukI"
      },
      "source": [
        "\n",
        "NAIVE BAYES CLASSIFICATION\n",
        "---\n",
        "\n"
      ]
    },
    {
      "cell_type": "code",
      "metadata": {
        "id": "om0Z071IYrdz"
      },
      "source": [
        "import numpy as np\n",
        "import matplotlib.pyplot as plt\n",
        "from scipy import stats\n",
        "from sklearn.metrics import classification_report, confusion_matrix\n",
        "from sklearn.model_selection import train_test_split\n",
        "import warnings\n",
        "warnings.filterwarnings(\"ignore\");"
      ],
      "execution_count": null,
      "outputs": []
    },
    {
      "cell_type": "code",
      "metadata": {
        "colab": {
          "base_uri": "https://localhost:8080/"
        },
        "id": "UNlLUBgkY2qp",
        "outputId": "716ce940-c9e2-4b37-dd60-1c4f6d845593"
      },
      "source": [
        "from google.colab import drive\n",
        "drive.mount('/content/drive')\n",
        "import os\n",
        "os.chdir('/content/drive/My Drive/Machine Learning')"
      ],
      "execution_count": null,
      "outputs": [
        {
          "output_type": "stream",
          "text": [
            "Drive already mounted at /content/drive; to attempt to forcibly remount, call drive.mount(\"/content/drive\", force_remount=True).\n"
          ],
          "name": "stdout"
        }
      ]
    },
    {
      "cell_type": "code",
      "metadata": {
        "id": "XcEvl0L2cp7h"
      },
      "source": [
        "import pandas as pd\n",
        "\n",
        "myds_pandas=pd.read_csv('ClassificationData_SDA_IZ_group2.csv')"
      ],
      "execution_count": null,
      "outputs": []
    },
    {
      "cell_type": "code",
      "metadata": {
        "colab": {
          "base_uri": "https://localhost:8080/",
          "height": 419
        },
        "id": "oGRr9qw_e4IX",
        "outputId": "5114ec89-3227-4f4b-ec68-2637923f85ec"
      },
      "source": [
        "Z=myds_pandas['Z_OppositeTeamDefence']\n",
        "Z\n",
        "\n",
        "Y=myds_pandas[[\"Y_Dehydration\", \"Y_Hyperthermia\",\"Y_AvgSpeed\", \"Y_AvgTravelledDistance\" , \"Y_PressingCapability\", \"Y_PhysicalEndurance\", \"Y_MentalConcentration\", \"Y_EmotionalMotivation\"]]\n",
        "Y"
      ],
      "execution_count": null,
      "outputs": [
        {
          "output_type": "execute_result",
          "data": {
            "text/html": [
              "<div>\n",
              "<style scoped>\n",
              "    .dataframe tbody tr th:only-of-type {\n",
              "        vertical-align: middle;\n",
              "    }\n",
              "\n",
              "    .dataframe tbody tr th {\n",
              "        vertical-align: top;\n",
              "    }\n",
              "\n",
              "    .dataframe thead th {\n",
              "        text-align: right;\n",
              "    }\n",
              "</style>\n",
              "<table border=\"1\" class=\"dataframe\">\n",
              "  <thead>\n",
              "    <tr style=\"text-align: right;\">\n",
              "      <th></th>\n",
              "      <th>Y_Dehydration</th>\n",
              "      <th>Y_Hyperthermia</th>\n",
              "      <th>Y_AvgSpeed</th>\n",
              "      <th>Y_AvgTravelledDistance</th>\n",
              "      <th>Y_PressingCapability</th>\n",
              "      <th>Y_PhysicalEndurance</th>\n",
              "      <th>Y_MentalConcentration</th>\n",
              "      <th>Y_EmotionalMotivation</th>\n",
              "    </tr>\n",
              "  </thead>\n",
              "  <tbody>\n",
              "    <tr>\n",
              "      <th>0</th>\n",
              "      <td>6.677760</td>\n",
              "      <td>8.343137</td>\n",
              "      <td>3.076781</td>\n",
              "      <td>-4.211415</td>\n",
              "      <td>12.082853</td>\n",
              "      <td>4.085970</td>\n",
              "      <td>12.530036</td>\n",
              "      <td>11.984524</td>\n",
              "    </tr>\n",
              "    <tr>\n",
              "      <th>1</th>\n",
              "      <td>5.366346</td>\n",
              "      <td>5.356699</td>\n",
              "      <td>2.853831</td>\n",
              "      <td>-3.011611</td>\n",
              "      <td>10.866838</td>\n",
              "      <td>-0.310016</td>\n",
              "      <td>12.807582</td>\n",
              "      <td>13.039656</td>\n",
              "    </tr>\n",
              "    <tr>\n",
              "      <th>2</th>\n",
              "      <td>5.117354</td>\n",
              "      <td>5.639778</td>\n",
              "      <td>-0.779392</td>\n",
              "      <td>-5.783385</td>\n",
              "      <td>5.295872</td>\n",
              "      <td>-3.343576</td>\n",
              "      <td>6.453986</td>\n",
              "      <td>6.861213</td>\n",
              "    </tr>\n",
              "    <tr>\n",
              "      <th>3</th>\n",
              "      <td>6.552929</td>\n",
              "      <td>10.164186</td>\n",
              "      <td>2.434366</td>\n",
              "      <td>-3.559911</td>\n",
              "      <td>12.619849</td>\n",
              "      <td>2.701936</td>\n",
              "      <td>14.445014</td>\n",
              "      <td>11.622576</td>\n",
              "    </tr>\n",
              "    <tr>\n",
              "      <th>4</th>\n",
              "      <td>6.518145</td>\n",
              "      <td>8.859181</td>\n",
              "      <td>1.764184</td>\n",
              "      <td>-4.980409</td>\n",
              "      <td>10.011302</td>\n",
              "      <td>0.357171</td>\n",
              "      <td>10.459209</td>\n",
              "      <td>9.989347</td>\n",
              "    </tr>\n",
              "    <tr>\n",
              "      <th>...</th>\n",
              "      <td>...</td>\n",
              "      <td>...</td>\n",
              "      <td>...</td>\n",
              "      <td>...</td>\n",
              "      <td>...</td>\n",
              "      <td>...</td>\n",
              "      <td>...</td>\n",
              "      <td>...</td>\n",
              "    </tr>\n",
              "    <tr>\n",
              "      <th>195</th>\n",
              "      <td>3.968906</td>\n",
              "      <td>2.767570</td>\n",
              "      <td>5.222294</td>\n",
              "      <td>-1.895960</td>\n",
              "      <td>10.684503</td>\n",
              "      <td>2.552538</td>\n",
              "      <td>12.762757</td>\n",
              "      <td>11.276801</td>\n",
              "    </tr>\n",
              "    <tr>\n",
              "      <th>196</th>\n",
              "      <td>5.136077</td>\n",
              "      <td>6.247014</td>\n",
              "      <td>-1.898779</td>\n",
              "      <td>-5.603919</td>\n",
              "      <td>5.227272</td>\n",
              "      <td>-4.161020</td>\n",
              "      <td>7.042536</td>\n",
              "      <td>7.737527</td>\n",
              "    </tr>\n",
              "    <tr>\n",
              "      <th>197</th>\n",
              "      <td>2.121075</td>\n",
              "      <td>2.343614</td>\n",
              "      <td>2.460799</td>\n",
              "      <td>-2.016852</td>\n",
              "      <td>9.696119</td>\n",
              "      <td>2.423240</td>\n",
              "      <td>12.209254</td>\n",
              "      <td>12.284317</td>\n",
              "    </tr>\n",
              "    <tr>\n",
              "      <th>198</th>\n",
              "      <td>4.089910</td>\n",
              "      <td>5.242092</td>\n",
              "      <td>-0.375904</td>\n",
              "      <td>-6.291635</td>\n",
              "      <td>5.394229</td>\n",
              "      <td>-2.707619</td>\n",
              "      <td>5.890800</td>\n",
              "      <td>7.439935</td>\n",
              "    </tr>\n",
              "    <tr>\n",
              "      <th>199</th>\n",
              "      <td>6.993508</td>\n",
              "      <td>9.480973</td>\n",
              "      <td>3.277462</td>\n",
              "      <td>-4.938459</td>\n",
              "      <td>13.240204</td>\n",
              "      <td>0.803778</td>\n",
              "      <td>15.668809</td>\n",
              "      <td>12.998332</td>\n",
              "    </tr>\n",
              "  </tbody>\n",
              "</table>\n",
              "<p>200 rows × 8 columns</p>\n",
              "</div>"
            ],
            "text/plain": [
              "     Y_Dehydration  ...  Y_EmotionalMotivation\n",
              "0         6.677760  ...              11.984524\n",
              "1         5.366346  ...              13.039656\n",
              "2         5.117354  ...               6.861213\n",
              "3         6.552929  ...              11.622576\n",
              "4         6.518145  ...               9.989347\n",
              "..             ...  ...                    ...\n",
              "195       3.968906  ...              11.276801\n",
              "196       5.136077  ...               7.737527\n",
              "197       2.121075  ...              12.284317\n",
              "198       4.089910  ...               7.439935\n",
              "199       6.993508  ...              12.998332\n",
              "\n",
              "[200 rows x 8 columns]"
            ]
          },
          "metadata": {
            "tags": []
          },
          "execution_count": 30
        }
      ]
    },
    {
      "cell_type": "code",
      "metadata": {
        "id": "QJZIuCH6dct7"
      },
      "source": [
        "\n",
        "YY_train, YY_test, ZZ_train, ZZ_test= train_test_split(Y,Z, test_size=0.8)\n"
      ],
      "execution_count": null,
      "outputs": []
    },
    {
      "cell_type": "code",
      "metadata": {
        "colab": {
          "base_uri": "https://localhost:8080/"
        },
        "id": "z5fvvwp4hZMC",
        "outputId": "d5037f56-6801-4e5c-8eac-989cfed01280"
      },
      "source": [
        "###Classification\n",
        "from sklearn.naive_bayes import GaussianNB\n",
        "gnb = GaussianNB()\n",
        "ZZ_estimated=gnb.fit(YY_train, ZZ_train).predict(YY_test)\n",
        "\n",
        "#Evaluate Results\n",
        "print('Confusion Matrix:')\n",
        "print(confusion_matrix(ZZ_test, ZZ_estimated))\n",
        "print('\\nClassifier Performance Metrics')\n",
        "print(classification_report(ZZ_test, ZZ_estimated))"
      ],
      "execution_count": null,
      "outputs": [
        {
          "output_type": "stream",
          "text": [
            "Confusion Matrix:\n",
            "[[ 42   3]\n",
            " [  6 109]]\n",
            "\n",
            "Classifier Performance Metrics\n",
            "              precision    recall  f1-score   support\n",
            "\n",
            "           0       0.88      0.93      0.90        45\n",
            "           1       0.97      0.95      0.96       115\n",
            "\n",
            "    accuracy                           0.94       160\n",
            "   macro avg       0.92      0.94      0.93       160\n",
            "weighted avg       0.95      0.94      0.94       160\n",
            "\n"
          ],
          "name": "stdout"
        }
      ]
    },
    {
      "cell_type": "code",
      "metadata": {
        "colab": {
          "base_uri": "https://localhost:8080/"
        },
        "id": "zkDO4SPLmFXY",
        "outputId": "b47b9725-4cb0-4ff7-e47c-6e00c5bef91a"
      },
      "source": [
        " from sklearn.linear_model import LogisticRegression, SGDClassifier\n",
        " lr = SGDClassifier('log')\n",
        " #Model fitting\n",
        " lr.fit(YY_train, ZZ_train)\n",
        " #Predict  class labels for sample in X\n",
        " ZZ_estimated = lr.predict(YY_test)\n",
        "\n",
        "\n",
        "  #Evaluate Results\n",
        "print('Confusion Matrix:')\n",
        "print(confusion_matrix(ZZ_test, ZZ_estimated))\n",
        "print('\\nClassifier Performance Metrics')\n",
        "print(classification_report(ZZ_test, ZZ_estimated))"
      ],
      "execution_count": null,
      "outputs": [
        {
          "output_type": "stream",
          "text": [
            "Confusion Matrix:\n",
            "[[ 43   2]\n",
            " [  6 109]]\n",
            "\n",
            "Classifier Performance Metrics\n",
            "              precision    recall  f1-score   support\n",
            "\n",
            "           0       0.88      0.96      0.91        45\n",
            "           1       0.98      0.95      0.96       115\n",
            "\n",
            "    accuracy                           0.95       160\n",
            "   macro avg       0.93      0.95      0.94       160\n",
            "weighted avg       0.95      0.95      0.95       160\n",
            "\n"
          ],
          "name": "stdout"
        }
      ]
    },
    {
      "cell_type": "code",
      "metadata": {
        "colab": {
          "base_uri": "https://localhost:8080/"
        },
        "id": "YuSE-iCunN7D",
        "outputId": "52ea68f7-3bf1-41c9-ff2f-7730cb02ed06"
      },
      "source": [
        "ZZ_test = np.array(ZZ_test)\n",
        "err=np.argwhere(ZZ_test!=ZZ_estimated).reshape((-1,))\n",
        "YY_test_np=np.array(YY_test)\n",
        "for i in range (err.size):\n",
        "  print(YY_test_np[i])\n"
      ],
      "execution_count": null,
      "outputs": [
        {
          "output_type": "stream",
          "text": [
            "[ 5.9707921   8.48634254  0.88455009 -4.07865504 10.02719706  1.96854964\n",
            "  9.66738503 10.65931404]\n",
            "[ 5.00347662  5.75843569  6.60855897 -3.73618901 12.69786996  3.69908889\n",
            " 11.76841486 11.04176883]\n",
            "[ 6.99998985  7.31436562  0.17017478 -5.27618962  7.62860164 -1.67940773\n",
            "  9.58055171  9.19821979]\n",
            "[ 4.88782803  7.69574783 -1.78165614 -6.26873083  7.10705299 -3.64995494\n",
            "  9.38128146 10.03507479]\n",
            "[ 8.06549289 10.07065448  3.36968742 -4.81187457 11.21669975  2.2422762\n",
            " 12.27084269  9.19749232]\n",
            "[ 6.06146506  7.63810458  4.44257886 -4.65029945 12.05237065  3.32335869\n",
            " 12.36245481 10.64132859]\n",
            "[ 7.0758703  11.49018887 -3.80257847 -7.24131584  7.17874768 -3.64229148\n",
            " 10.43778744 10.27967401]\n",
            "[ 5.23282886  7.78947819  1.03287296 -3.38535945  9.53087716  3.02195789\n",
            "  8.54349935  9.61279273]\n",
            "[ 5.72619798  8.67866086 -3.65420425 -5.95046455  4.93371956 -3.73783784\n",
            "  7.8010601   7.44056997]\n"
          ],
          "name": "stdout"
        }
      ]
    },
    {
      "cell_type": "code",
      "metadata": {
        "colab": {
          "base_uri": "https://localhost:8080/"
        },
        "id": "cVjutI4Cv3N4",
        "outputId": "16379d16-4f10-4fe1-9973-21055f28d197"
      },
      "source": [
        "#PCA PROVA\n",
        "from sklearn.pipeline import Pipeline\n",
        "from sklearn.decomposition import PCA\n",
        "\n",
        "\n",
        "# fits PCA, transforms data and fits the decision tree classifier\n",
        "# on the transformed data\n",
        "for i in range (8):\n",
        "  pipe = Pipeline([('pca', PCA(n_components= i+1)),('Logistic Regression', SGDClassifier('log'))])\n",
        "  pipe.fit(YY_train, ZZ_train)\n",
        "  ZZ_estimated= pipe.predict(YY_test)\n",
        "  print('current_components: ' , i+1 )\n",
        "  #Evaluate Results\n",
        "  print('Confusion Matrix:')\n",
        "  print(confusion_matrix(ZZ_test, ZZ_estimated))\n",
        "  print('\\nClassifier Performance Metrics')\n",
        "  print(classification_report(ZZ_test, ZZ_estimated))\n",
        "\n"
      ],
      "execution_count": null,
      "outputs": [
        {
          "output_type": "stream",
          "text": [
            "current_components:  1\n",
            "Confusion Matrix:\n",
            "[[ 37   8]\n",
            " [  4 111]]\n",
            "\n",
            "Classifier Performance Metrics\n",
            "              precision    recall  f1-score   support\n",
            "\n",
            "           0       0.90      0.82      0.86        45\n",
            "           1       0.93      0.97      0.95       115\n",
            "\n",
            "    accuracy                           0.93       160\n",
            "   macro avg       0.92      0.89      0.90       160\n",
            "weighted avg       0.92      0.93      0.92       160\n",
            "\n",
            "current_components:  2\n",
            "Confusion Matrix:\n",
            "[[ 43   2]\n",
            " [ 10 105]]\n",
            "\n",
            "Classifier Performance Metrics\n",
            "              precision    recall  f1-score   support\n",
            "\n",
            "           0       0.81      0.96      0.88        45\n",
            "           1       0.98      0.91      0.95       115\n",
            "\n",
            "    accuracy                           0.93       160\n",
            "   macro avg       0.90      0.93      0.91       160\n",
            "weighted avg       0.93      0.93      0.93       160\n",
            "\n",
            "current_components:  3\n",
            "Confusion Matrix:\n",
            "[[41  4]\n",
            " [21 94]]\n",
            "\n",
            "Classifier Performance Metrics\n",
            "              precision    recall  f1-score   support\n",
            "\n",
            "           0       0.66      0.91      0.77        45\n",
            "           1       0.96      0.82      0.88       115\n",
            "\n",
            "    accuracy                           0.84       160\n",
            "   macro avg       0.81      0.86      0.82       160\n",
            "weighted avg       0.88      0.84      0.85       160\n",
            "\n",
            "current_components:  4\n",
            "Confusion Matrix:\n",
            "[[ 39   6]\n",
            " [  5 110]]\n",
            "\n",
            "Classifier Performance Metrics\n",
            "              precision    recall  f1-score   support\n",
            "\n",
            "           0       0.89      0.87      0.88        45\n",
            "           1       0.95      0.96      0.95       115\n",
            "\n",
            "    accuracy                           0.93       160\n",
            "   macro avg       0.92      0.91      0.91       160\n",
            "weighted avg       0.93      0.93      0.93       160\n",
            "\n",
            "current_components:  5\n",
            "Confusion Matrix:\n",
            "[[ 41   4]\n",
            " [ 10 105]]\n",
            "\n",
            "Classifier Performance Metrics\n",
            "              precision    recall  f1-score   support\n",
            "\n",
            "           0       0.80      0.91      0.85        45\n",
            "           1       0.96      0.91      0.94       115\n",
            "\n",
            "    accuracy                           0.91       160\n",
            "   macro avg       0.88      0.91      0.90       160\n",
            "weighted avg       0.92      0.91      0.91       160\n",
            "\n",
            "current_components:  6\n",
            "Confusion Matrix:\n",
            "[[ 44   1]\n",
            " [ 15 100]]\n",
            "\n",
            "Classifier Performance Metrics\n",
            "              precision    recall  f1-score   support\n",
            "\n",
            "           0       0.75      0.98      0.85        45\n",
            "           1       0.99      0.87      0.93       115\n",
            "\n",
            "    accuracy                           0.90       160\n",
            "   macro avg       0.87      0.92      0.89       160\n",
            "weighted avg       0.92      0.90      0.90       160\n",
            "\n",
            "current_components:  7\n",
            "Confusion Matrix:\n",
            "[[ 43   2]\n",
            " [  2 113]]\n",
            "\n",
            "Classifier Performance Metrics\n",
            "              precision    recall  f1-score   support\n",
            "\n",
            "           0       0.96      0.96      0.96        45\n",
            "           1       0.98      0.98      0.98       115\n",
            "\n",
            "    accuracy                           0.97       160\n",
            "   macro avg       0.97      0.97      0.97       160\n",
            "weighted avg       0.97      0.97      0.97       160\n",
            "\n",
            "current_components:  8\n",
            "Confusion Matrix:\n",
            "[[ 43   2]\n",
            " [  7 108]]\n",
            "\n",
            "Classifier Performance Metrics\n",
            "              precision    recall  f1-score   support\n",
            "\n",
            "           0       0.86      0.96      0.91        45\n",
            "           1       0.98      0.94      0.96       115\n",
            "\n",
            "    accuracy                           0.94       160\n",
            "   macro avg       0.92      0.95      0.93       160\n",
            "weighted avg       0.95      0.94      0.94       160\n",
            "\n"
          ],
          "name": "stdout"
        }
      ]
    }
  ]
}