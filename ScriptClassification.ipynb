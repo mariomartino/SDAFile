{
  "nbformat": 4,
  "nbformat_minor": 0,
  "metadata": {
    "colab": {
      "name": "ScriptClassification.ipynb",
      "provenance": [],
      "collapsed_sections": []
    },
    "kernelspec": {
      "name": "python3",
      "display_name": "Python 3"
    },
    "language_info": {
      "name": "python"
    }
  },
  "cells": [
    {
      "cell_type": "markdown",
      "metadata": {
        "id": "YLKDeDKZXukI"
      },
      "source": [
        "Script di classificazione"
      ]
    },
    {
      "cell_type": "code",
      "metadata": {
        "id": "om0Z071IYrdz"
      },
      "source": [
        "import numpy as np\n",
        "import matplotlib.pyplot as plt\n",
        "from scipy import stats\n",
        "from sklearn.metrics import classification_report, confusion_matrix\n",
        "from sklearn.model_selection import train_test_split\n",
        "import warnings\n",
        "import itertools\n",
        "warnings.filterwarnings(\"ignore\");"
      ],
      "execution_count": 1,
      "outputs": []
    },
    {
      "cell_type": "code",
      "metadata": {
        "colab": {
          "base_uri": "https://localhost:8080/"
        },
        "id": "UNlLUBgkY2qp",
        "outputId": "4590635c-378c-45cd-f0cc-4a8e0ba79e18"
      },
      "source": [
        "from google.colab import drive\n",
        "import os\n",
        "\n",
        "drive.mount('/content/drive')\n",
        "os.chdir('/content/drive/My Drive/Machine Learning')\n",
        "#os.chdir('/content/drive/My Drive/Inserire PATH')"
      ],
      "execution_count": 2,
      "outputs": [
        {
          "output_type": "stream",
          "text": [
            "Mounted at /content/drive\n"
          ],
          "name": "stdout"
        }
      ]
    },
    {
      "cell_type": "markdown",
      "metadata": {
        "id": "-p4SsFn0RR0Y"
      },
      "source": [
        "Caricamento del dataset di addestramento"
      ]
    },
    {
      "cell_type": "code",
      "metadata": {
        "id": "XcEvl0L2cp7h"
      },
      "source": [
        "import pandas as pd\n",
        "\n",
        "myds_pandas=pd.read_csv('ClassificationData_SDA_IZ_group2.csv')\n",
        "myds_pandas=pd.read_csv('Inserire FILENAME.csv')"
      ],
      "execution_count": 3,
      "outputs": []
    },
    {
      "cell_type": "code",
      "metadata": {
        "id": "oGRr9qw_e4IX"
      },
      "source": [
        "Z=myds_pandas['Z_OppositeTeamDefence']\n",
        "Y=myds_pandas[[\"Y_Dehydration\", \"Y_Hyperthermia\",\"Y_AvgSpeed\", \"Y_AvgTravelledDistance\" , \"Y_PressingCapability\", \"Y_PhysicalEndurance\", \"Y_MentalConcentration\", \"Y_EmotionalMotivation\"]]\n"
      ],
      "execution_count": 4,
      "outputs": []
    },
    {
      "cell_type": "code",
      "metadata": {
        "id": "QJZIuCH6dct7"
      },
      "source": [
        "YY_train, YY_test, ZZ_train, ZZ_test= train_test_split(Y,Z, test_size=0.8)"
      ],
      "execution_count": 5,
      "outputs": []
    },
    {
      "cell_type": "markdown",
      "metadata": {
        "id": "4kxn3MLIRVm6"
      },
      "source": [
        "Implementazione e visualizzazione risultati di un classificatore Naive Bayes"
      ]
    },
    {
      "cell_type": "code",
      "metadata": {
        "colab": {
          "base_uri": "https://localhost:8080/",
          "height": 496
        },
        "id": "u5arZ9nNQjQ3",
        "outputId": "83d3b7d0-ea60-4d21-ae74-78599069d42a"
      },
      "source": [
        "from sklearn.naive_bayes import GaussianNB\n",
        "gnb = GaussianNB()\n",
        "ZZ_estimated=gnb.fit(YY_train, ZZ_train).predict(YY_test)\n",
        "\n",
        "conf = confusion_matrix(ZZ_test, ZZ_estimated)\n",
        "\n",
        "classes = [0, 1]\n",
        "plt.imshow(conf, interpolation='nearest', cmap=plt.cm.Blues)\n",
        "plt.title(\"Confusion Matrix\")\n",
        "plt.colorbar()\n",
        "tick_marks = np.arange(len(classes))\n",
        "plt.xticks(tick_marks, classes)\n",
        "plt.yticks(tick_marks, classes)\n",
        "\n",
        "fmt = 'd'\n",
        "thresh = conf.max() / 2.\n",
        "for i, j in itertools.product(range(conf.shape[0]), range(conf.shape[1])):\n",
        "    plt.text(j, i, format(conf[i, j], fmt),\n",
        "             horizontalalignment=\"center\",\n",
        "             color=\"white\" if conf[i, j] > thresh else \"black\")\n",
        "\n",
        "plt.tight_layout()\n",
        "plt.ylabel('True label')\n",
        "plt.xlabel('Predicted label')\n",
        "\n",
        "print('\\nClassifier Performance Metrics')\n",
        "print(classification_report(ZZ_test, ZZ_estimated))\n"
      ],
      "execution_count": 8,
      "outputs": [
        {
          "output_type": "stream",
          "text": [
            "\n",
            "Classifier Performance Metrics\n",
            "              precision    recall  f1-score   support\n",
            "\n",
            "           0       0.97      0.84      0.90        45\n",
            "           1       0.94      0.99      0.97       115\n",
            "\n",
            "    accuracy                           0.95       160\n",
            "   macro avg       0.96      0.92      0.94       160\n",
            "weighted avg       0.95      0.95      0.95       160\n",
            "\n"
          ],
          "name": "stdout"
        },
        {
          "output_type": "display_data",
          "data": {
            "image/png": "[encoded data removed]",
            "text/plain": [
              "<Figure size 432x288 with 2 Axes>"
            ]
          },
          "metadata": {
            "tags": [],
            "needs_background": "light"
          }
        }
      ]
    },
    {
      "cell_type": "markdown",
      "metadata": {
        "id": "SLFu_ki-RgRF"
      },
      "source": [
        "Implementazione e visualizzazione risultati di un classificatore con Regressione Logistica\n",
        "\n"
      ]
    },
    {
      "cell_type": "code",
      "metadata": {
        "colab": {
          "base_uri": "https://localhost:8080/",
          "height": 496
        },
        "id": "zkDO4SPLmFXY",
        "outputId": "d503867f-da03-4226-8f9d-265cad978637"
      },
      "source": [
        "from sklearn.linear_model import LogisticRegression, SGDClassifier\n",
        "lr = SGDClassifier('log')\n",
        "lr.fit(YY_train, ZZ_train)\n",
        "ZZ_estimated = lr.predict(YY_test)\n",
        "\n",
        "\n",
        "conf = confusion_matrix(ZZ_test, ZZ_estimated)\n",
        "\n",
        "classes = [0, 1]\n",
        "plt.imshow(conf, interpolation='nearest', cmap=plt.cm.Blues)\n",
        "plt.title(\"Confusion Matrix\")\n",
        "plt.colorbar()\n",
        "tick_marks = np.arange(len(classes))\n",
        "plt.xticks(tick_marks, classes)\n",
        "plt.yticks(tick_marks, classes)\n",
        "\n",
        "fmt = 'd'\n",
        "thresh = conf.max() / 2.\n",
        "for i, j in itertools.product(range(conf.shape[0]), range(conf.shape[1])):\n",
        "    plt.text(j, i, format(conf[i, j], fmt),\n",
        "             horizontalalignment=\"center\",\n",
        "             color=\"white\" if conf[i, j] > thresh else \"black\")\n",
        "\n",
        "plt.tight_layout()\n",
        "plt.ylabel('True label')\n",
        "plt.xlabel('Predicted label')\n",
        "\n",
        "print('\\nClassifier Performance Metrics')\n",
        "print(classification_report(ZZ_test, ZZ_estimated))\n"
      ],
      "execution_count": 29,
      "outputs": [
        {
          "output_type": "stream",
          "text": [
            "\n",
            "Classifier Performance Metrics\n",
            "              precision    recall  f1-score   support\n",
            "\n",
            "           0       0.98      0.91      0.94        45\n",
            "           1       0.97      0.99      0.98       115\n",
            "\n",
            "    accuracy                           0.97       160\n",
            "   macro avg       0.97      0.95      0.96       160\n",
            "weighted avg       0.97      0.97      0.97       160\n",
            "\n"
          ],
          "name": "stdout"
        },
        {
          "output_type": "display_data",
          "data": {
            "image/png": "[encoded data removed]",
            "text/plain": [
              "<Figure size 432x288 with 2 Axes>"
            ]
          },
          "metadata": {
            "tags": [],
            "needs_background": "light"
          }
        }
      ]
    },
    {
      "cell_type": "markdown",
      "metadata": {
        "id": "1nDhxWTlRvyM"
      },
      "source": [
        "Visualizzazione predittori dei campioni per cui il classificatore logistico cade in errore"
      ]
    },
    {
      "cell_type": "code",
      "metadata": {
        "colab": {
          "base_uri": "https://localhost:8080/"
        },
        "id": "YuSE-iCunN7D",
        "outputId": "6ea8fa2a-d9a5-425a-969a-ed71381d567d"
      },
      "source": [
        "ZZ_test = np.array(ZZ_test)\n",
        "err=np.argwhere(ZZ_test!=ZZ_estimated).reshape((-1,))\n",
        "YY_test_np=np.array(YY_test)\n",
        "for i in range (err.size):\n",
        "    print(YY_test_np[i])"
      ],
      "execution_count": 13,
      "outputs": [
        {
          "output_type": "stream",
          "text": [
            "[ 1.43540688  2.50414428  6.58649188  0.78069942 12.89194102  7.74540464\n",
            " 13.0100324  10.91302662]\n",
            "[ 1.83445253  4.49266997  3.54858306 -3.06180982  9.99392417  4.21252174\n",
            "  9.79401046  9.19426206]\n",
            "[ 3.25961497  3.7605274   2.88028342 -3.11245417 10.01081865  1.51757451\n",
            " 13.31428657 10.53627859]\n",
            "[ 6.09914222  7.86059065  2.77084622 -3.66974163 11.24068253  1.03655175\n",
            " 13.14114859 11.35299643]\n",
            "[ 7.0758703  11.49018887 -3.80257847 -7.24131584  7.17874768 -3.64229148\n",
            " 10.43778744 10.27967401]\n",
            "[ 5.38291702  9.01353245  3.12972208 -3.39905632 14.32467648  3.31329077\n",
            " 17.78067398 13.91716925]\n",
            "[ 4.03255131  7.16473996  6.41236422 -0.45440062 15.25202322  5.22461048\n",
            " 15.16282932 13.33985129]\n",
            "[ 6.19860243  8.9994809  -3.64879785 -8.42476943  4.63786324 -5.94265472\n",
            "  5.6878559   7.93931797]\n"
          ],
          "name": "stdout"
        }
      ]
    },
    {
      "cell_type": "markdown",
      "metadata": {
        "id": "3tlIwTK4SRZH"
      },
      "source": [
        "Implementazione e visualizzazione risultati di un classificatore con Regressione Logistica in seguito ad una trasformazione PCA"
      ]
    },
    {
      "cell_type": "code",
      "metadata": {
        "colab": {
          "base_uri": "https://localhost:8080/",
          "height": 496
        },
        "id": "sLiMlrJZYLEK",
        "outputId": "41db1a36-d39b-4a5b-8cc6-bde1cc6f9c6f"
      },
      "source": [
        "from sklearn.pipeline import Pipeline\n",
        "from sklearn.decomposition import PCA\n",
        "\n",
        "pipe = []\n",
        "accuracy = []\n",
        "confMatrix = []\n",
        "\n",
        "for i in range (8):\n",
        "    pipe.append(Pipeline([('pca', PCA(n_components= i+1)),('Logistic Regression', SGDClassifier('log'))]))\n",
        "    pipe[i].fit(YY_train, ZZ_train)\n",
        "    ZZ_estimated= pipe[i].predict(YY_test)\n",
        "    confMatrix.append(confusion_matrix(ZZ_test, ZZ_estimated))\n",
        "    metrics = classification_report(ZZ_test, ZZ_estimated, output_dict=True)\n",
        "    accuracy.append(metrics['accuracy'])\n",
        "\n",
        "max_value = max(accuracy)\n",
        "conf = confMatrix[accuracy.index(max_value)]\n",
        "\n",
        "classes = [0, 1]\n",
        "plt.imshow(conf, interpolation='nearest', cmap=plt.cm.Blues)\n",
        "plt.title(\"Confusion Matrix\")\n",
        "plt.colorbar()\n",
        "tick_marks = np.arange(len(classes))\n",
        "plt.xticks(tick_marks, classes)\n",
        "plt.yticks(tick_marks, classes)\n",
        "\n",
        "fmt = 'd'\n",
        "thresh = conf.max() / 2.\n",
        "for i, j in itertools.product(range(conf.shape[0]), range(conf.shape[1])):\n",
        "    plt.text(j, i, format(conf[i, j], fmt),\n",
        "             horizontalalignment=\"center\",\n",
        "             color=\"white\" if conf[i, j] > thresh else \"black\")\n",
        "\n",
        "plt.tight_layout()\n",
        "plt.ylabel('True label')\n",
        "plt.xlabel('Predicted label')\n",
        "\n",
        "print('\\nClassifier Performance Metrics')\n",
        "print(classification_report(ZZ_test, ZZ_estimated))\n"
      ],
      "execution_count": 63,
      "outputs": [
        {
          "output_type": "stream",
          "text": [
            "\n",
            "Classifier Performance Metrics\n",
            "              precision    recall  f1-score   support\n",
            "\n",
            "           0       1.00      0.82      0.90        45\n",
            "           1       0.93      1.00      0.97       115\n",
            "\n",
            "    accuracy                           0.95       160\n",
            "   macro avg       0.97      0.91      0.93       160\n",
            "weighted avg       0.95      0.95      0.95       160\n",
            "\n"
          ],
          "name": "stdout"
        },
        {
          "output_type": "display_data",
          "data": {
            "image/png": "[encoded data removed]",
            "text/plain": [
              "<Figure size 432x288 with 2 Axes>"
            ]
          },
          "metadata": {
            "tags": [],
            "needs_background": "light"
          }
        }
      ]
    }
  ]
}